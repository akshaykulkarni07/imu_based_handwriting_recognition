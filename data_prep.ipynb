{
 "cells": [
  {
   "cell_type": "code",
   "execution_count": 1,
   "metadata": {},
   "outputs": [],
   "source": [
    "%matplotlib inline\n",
    "import pandas as pd\n",
    "import datetime\n",
    "import pandas_datareader.data as web\n",
    "import matplotlib.pyplot as plt\n",
    "import torch\n",
    "from torch.utils.data import Dataset, DataLoader\n",
    "import numpy as np"
   ]
  },
  {
   "cell_type": "code",
   "execution_count": 46,
   "metadata": {},
   "outputs": [
    {
     "name": "stdout",
     "output_type": "stream",
     "text": [
      "       x_acc  y_acc  z_acc  x_gyro  y_gyro  z_gyro label\n",
      "time                                                    \n",
      "10000  0.092 -0.041 -0.028  11.265   2.235    9.82     d\n",
      "10000  0.092 -0.041 -0.028  11.265   2.235    9.82     d\n",
      "10000  0.092 -0.041 -0.028  11.265   2.235    9.82     d\n",
      "10000  0.092 -0.041 -0.028  11.265   2.235    9.82     d\n",
      "10000  0.092 -0.041 -0.028  11.265   2.235    9.82     d\n"
     ]
    }
   ],
   "source": [
    "# Loading the data\n",
    "df = pd.read_csv('final_data/abcd_data.csv', names = ['time', 'x_acc', 'y_acc', 'z_acc', 'x_gyro', 'y_gyro', 'z_gyro', 'label'], index_col = 0)\n",
    "print(df.tail())"
   ]
  },
  {
   "cell_type": "code",
   "execution_count": 47,
   "metadata": {},
   "outputs": [
    {
     "name": "stdout",
     "output_type": "stream",
     "text": [
      "       label_a  label_b  label_c  label_d\n",
      "time                                     \n",
      "10000        1        0        0        0\n",
      "10000        1        0        0        0\n",
      "10000        1        0        0        0\n",
      "10000        1        0        0        0\n",
      "10000        1        0        0        0\n",
      "          x_acc     y_acc     z_acc    x_gyro    y_gyro    z_gyro\n",
      "time                                                             \n",
      "10000  0.742308  0.935106  0.433684  0.868483  0.395651  0.311647\n",
      "10000  0.742308  0.935106  0.433684  0.868483  0.395651  0.311647\n",
      "10000  0.742308  0.935106  0.433684  0.868483  0.395651  0.311647\n",
      "10000  0.742308  0.935106  0.433684  0.868483  0.395651  0.311647\n",
      "10000  0.742308  0.935106  0.433684  0.868483  0.395651  0.311647\n",
      "    time     x_acc     y_acc     z_acc    x_gyro    y_gyro    z_gyro  label_a  \\\n",
      "0  10000  0.742308  0.935106  0.433684  0.868483  0.395651  0.311647        1   \n",
      "1  10000  0.742308  0.935106  0.433684  0.868483  0.395651  0.311647        1   \n",
      "2  10000  0.742308  0.935106  0.433684  0.868483  0.395651  0.311647        1   \n",
      "3  10000  0.742308  0.935106  0.433684  0.868483  0.395651  0.311647        1   \n",
      "4  10000  0.742308  0.935106  0.433684  0.868483  0.395651  0.311647        1   \n",
      "\n",
      "   label_b  label_c  label_d  \n",
      "0        0        0        0  \n",
      "1        0        0        0  \n",
      "2        0        0        0  \n",
      "3        0        0        0  \n",
      "4        0        0        0  \n"
     ]
    }
   ],
   "source": [
    "# Normalizing the data and making the labels one_hot\n",
    "labels = pd.DataFrame(pd.get_dummies(df['label'], prefix='label'))\n",
    "print(labels.head())\n",
    "df = df.drop('label', axis = 1)\n",
    "df = (df - df.min()) / (df.max() - df.min())\n",
    "print(df.head())\n",
    "dataframe = pd.concat([df, labels], axis = 1).reset_index(drop = False)\n",
    "print(dataframe.head())\n",
    "dataframe.to_csv('final_data/abcd_final_data.csv', index = None)"
   ]
  },
  {
   "cell_type": "code",
   "execution_count": 10,
   "metadata": {},
   "outputs": [
    {
     "name": "stdout",
     "output_type": "stream",
     "text": [
      "(65700, 10)\n",
      "(52500, 10)\n"
     ]
    }
   ],
   "source": [
    "final = pd.read_csv('final_data/abcd_final_data.csv', header = 0, index_col = 0)\n",
    "# shuffling the dataset before splitting\n",
    "# But shuffling each complete time series and not individual samples.\n",
    "threed = final.values.reshape(-1, 300, final.shape[1])\n",
    "np.random.shuffle(threed)\n",
    "\n",
    "twod = threed.reshape(-1, final.shape[1])\n",
    "print(twod.shape)\n",
    "# total = 65700\n",
    "# reqd_len = 300\n",
    "# train_samples = reqd_len * (int(0.8 * twod.shape[0] // reqd_len)) # 52500\n",
    "# val_samples = reqd_len * (int(0.1 * twod.shape[0] // reqd_len)) # 6600\n",
    "# print(train_samples)\n",
    "# print(val_samples)\n",
    "train_df = pd.DataFrame(twod[ : 52500])\n",
    "val_df = pd.DataFrame(twod[52500 : (52500 + 6600)])\n",
    "test_df = pd.DataFrame(twod[(52500 + 6600) : ])\n",
    "# print(train_df.shape)\n",
    "\n",
    "train_df.to_csv('final_data/train.csv', index = False, header = False)\n",
    "val_df.to_csv('final_data/val.csv', index = False, header = False)\n",
    "test_df.to_csv('final_data/test.csv', index = False, header = False)"
   ]
  },
  {
   "cell_type": "code",
   "execution_count": 9,
   "metadata": {},
   "outputs": [
    {
     "name": "stdout",
     "output_type": "stream",
     "text": [
      "52500\n",
      "6600\n",
      "6600\n"
     ]
    }
   ],
   "source": [
    "print(len(train_df))\n",
    "print(len(test_df))\n",
    "print(len(val_df))"
   ]
  },
  {
   "cell_type": "code",
   "execution_count": null,
   "metadata": {},
   "outputs": [],
   "source": []
  },
  {
   "cell_type": "code",
   "execution_count": null,
   "metadata": {},
   "outputs": [],
   "source": []
  }
 ],
 "metadata": {
  "kernelspec": {
   "display_name": "Python 3",
   "language": "python",
   "name": "python3"
  },
  "language_info": {
   "codemirror_mode": {
    "name": "ipython",
    "version": 3
   },
   "file_extension": ".py",
   "mimetype": "text/x-python",
   "name": "python",
   "nbconvert_exporter": "python",
   "pygments_lexer": "ipython3",
   "version": "3.7.1"
  }
 },
 "nbformat": 4,
 "nbformat_minor": 2
}
