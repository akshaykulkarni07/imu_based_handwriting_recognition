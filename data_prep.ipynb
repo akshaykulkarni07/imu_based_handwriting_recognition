{
 "cells": [
  {
   "cell_type": "code",
   "execution_count": 0,
   "metadata": {
    "colab": {},
    "colab_type": "code",
    "id": "9WyM3Te1hTb2"
   },
   "outputs": [],
   "source": [
    "%matplotlib inline\n",
    "import pandas as pd\n",
    "import datetime\n",
    "import pandas_datareader.data as web\n",
    "import matplotlib.pyplot as plt\n",
    "import torch\n",
    "from torch.utils.data import Dataset, DataLoader\n",
    "import numpy as np"
   ]
  },
  {
   "cell_type": "code",
   "execution_count": 0,
   "metadata": {
    "colab": {},
    "colab_type": "code",
    "id": "TsbrMDS9hTb9",
    "outputId": "a0043c9b-4409-41c1-c3da-e3b228d2fd7d"
   },
   "outputs": [
    {
     "name": "stdout",
     "output_type": "stream",
     "text": [
      "    time  x_acc  y_acc  z_acc  x_gyro  y_gyro  z_gyro label\n",
      "0  10000  0.092 -0.041 -0.028  11.265   2.235    9.82     a\n",
      "1  10000  0.092 -0.041 -0.028  11.265   2.235    9.82     a\n",
      "2  10000  0.092 -0.041 -0.028  11.265   2.235    9.82     a\n",
      "3  10000  0.092 -0.041 -0.028  11.265   2.235    9.82     a\n",
      "4  10000  0.092 -0.041 -0.028  11.265   2.235    9.82     a\n"
     ]
    },
    {
     "data": {
      "text/plain": [
       "[<matplotlib.lines.Line2D at 0x152ac10f588>]"
      ]
     },
     "execution_count": 3,
     "metadata": {
      "tags": []
     },
     "output_type": "execute_result"
    },
    {
     "data": {
      "image/png": "[encoded data removed]",
      "text/plain": [
       "<Figure size 432x288 with 1 Axes>"
      ]
     },
     "metadata": {
      "needs_background": "light",
      "tags": []
     },
     "output_type": "display_data"
    }
   ],
   "source": [
    "# Loading the data\n",
    "df = pd.read_csv('all_data/all.csv', names = ['time', 'x_acc', 'y_acc', 'z_acc', 'x_gyro', 'y_gyro', 'z_gyro', 'label'])\n",
    "print(df.head())\n",
    "# print(df['label'][100800 : 100801])\n",
    "plt.plot(df['x_acc'][100200 : 101400])"
   ]
  },
  {
   "cell_type": "code",
   "execution_count": 0,
   "metadata": {
    "colab": {},
    "colab_type": "code",
    "id": "uQIl2Xy8hTcF",
    "outputId": "88be85ae-477f-47d6-a97f-e53487dd4328"
   },
   "outputs": [
    {
     "name": "stdout",
     "output_type": "stream",
     "text": [
      "       label_a  label_b  label_c  label_d  label_e  label_f  label_g  label_h  \\\n",
      "time                                                                            \n",
      "10000        1        0        0        0        0        0        0        0   \n",
      "10000        1        0        0        0        0        0        0        0   \n",
      "10000        1        0        0        0        0        0        0        0   \n",
      "10000        1        0        0        0        0        0        0        0   \n",
      "10000        1        0        0        0        0        0        0        0   \n",
      "\n",
      "       label_i  \n",
      "time            \n",
      "10000        0  \n",
      "10000        0  \n",
      "10000        0  \n",
      "10000        0  \n",
      "10000        0  \n",
      "          x_acc     y_acc     z_acc   x_gyro    y_gyro    z_gyro\n",
      "time                                                            \n",
      "10000  0.479503  0.683088  0.530579  0.84696  0.529894  0.347786\n",
      "10000  0.479503  0.683088  0.530579  0.84696  0.529894  0.347786\n",
      "10000  0.479503  0.683088  0.530579  0.84696  0.529894  0.347786\n",
      "10000  0.479503  0.683088  0.530579  0.84696  0.529894  0.347786\n",
      "10000  0.479503  0.683088  0.530579  0.84696  0.529894  0.347786\n",
      "         time     x_acc     y_acc     z_acc   x_gyro    y_gyro    z_gyro  \\\n",
      "213995  10000  0.479503  0.683088  0.530579  0.84696  0.529894  0.347786   \n",
      "213996  10000  0.479503  0.683088  0.530579  0.84696  0.529894  0.347786   \n",
      "213997  10000  0.479503  0.683088  0.530579  0.84696  0.529894  0.347786   \n",
      "213998  10000  0.479503  0.683088  0.530579  0.84696  0.529894  0.347786   \n",
      "213999  10000  0.479503  0.683088  0.530579  0.84696  0.529894  0.347786   \n",
      "\n",
      "        label_a  label_b  label_c  label_d  label_e  label_f  label_g  \\\n",
      "213995        0        0        0        0        0        0        0   \n",
      "213996        0        0        0        0        0        0        0   \n",
      "213997        0        0        0        0        0        0        0   \n",
      "213998        0        0        0        0        0        0        0   \n",
      "213999        0        0        0        0        0        0        0   \n",
      "\n",
      "        label_h  label_i  \n",
      "213995        0        1  \n",
      "213996        0        1  \n",
      "213997        0        1  \n",
      "213998        0        1  \n",
      "213999        0        1  \n"
     ]
    }
   ],
   "source": [
    "# Normalizing the data and making the labels one_hot\n",
    "labels = pd.DataFrame(pd.get_dummies(df['label'], prefix='label'))\n",
    "print(labels.head())\n",
    "df = df.drop('label', axis = 1)\n",
    "df = (df - df.min()) / (df.max() - df.min())\n",
    "print(df.head())\n",
    "dataframe = pd.concat([df, labels], axis = 1).reset_index(drop = False)\n",
    "print(dataframe.tail())\n",
    "dataframe.to_csv('final_data/all_data.csv', index = None)"
   ]
  },
  {
   "cell_type": "code",
   "execution_count": 0,
   "metadata": {
    "colab": {},
    "colab_type": "code",
    "id": "F4DOinhuhTcN",
    "outputId": "bb185c73-9eca-43c7-8cf9-bd674a8783f2"
   },
   "outputs": [
    {
     "name": "stdout",
     "output_type": "stream",
     "text": [
      "(171600, 15)\n",
      "(21200, 15)\n",
      "(21200, 15)\n"
     ]
    }
   ],
   "source": [
    "final = pd.read_csv('final_data/all_data.csv', header = 0, index_col = 0)\n",
    "# shuffling the dataset before splitting\n",
    "# But shuffling each complete time series and not individual samples.\n",
    "threed = final.values.reshape(-1, 400, final.shape[1])\n",
    "np.random.shuffle(threed)\n",
    "\n",
    "twod = threed.reshape(-1, final.shape[1])\n",
    "# print(twod.shape)\n",
    "# total = 65700\n",
    "# reqd_len = 300\n",
    "# train_samples = reqd_len * (int(0.8 * twod.shape[0] // reqd_len)) # 52500\n",
    "# val_samples = reqd_len * (int(0.1 * twod.shape[0] // reqd_len)) # 6600\n",
    "# print(train_samples)\n",
    "# print(val_samples)\n",
    "train_df = pd.DataFrame(twod[ : 171600])\n",
    "val_df = pd.DataFrame(twod[171600 : (171600 + 21200)])\n",
    "test_df = pd.DataFrame(twod[(171600 + 21200) : ])\n",
    "print(train_df.shape)\n",
    "print(val_df.shape)\n",
    "print(test_df.shape)\n",
    "\n",
    "train_df.to_csv('final_data/train.csv', index = False, header = False)\n",
    "val_df.to_csv('final_data/val.csv', index = False, header = False)\n",
    "test_df.to_csv('final_data/test.csv', index = False, header = False)"
   ]
  },
  {
   "cell_type": "code",
   "execution_count": 0,
   "metadata": {
    "colab": {},
    "colab_type": "code",
    "id": "stK9FNgahTcU",
    "outputId": "b9e3b28e-78d8-496f-f1da-9b3e63021043"
   },
   "outputs": [
    {
     "name": "stdout",
     "output_type": "stream",
     "text": [
      "52500\n",
      "6600\n",
      "6600\n"
     ]
    }
   ],
   "source": [
    "print(len(train_df))\n",
    "print(len(test_df))\n",
    "print(len(val_df))"
   ]
  },
  {
   "cell_type": "code",
   "execution_count": 0,
   "metadata": {
    "colab": {},
    "colab_type": "code",
    "id": "-TsiAHiihTcc"
   },
   "outputs": [],
   "source": []
  },
  {
   "cell_type": "code",
   "execution_count": 0,
   "metadata": {
    "colab": {},
    "colab_type": "code",
    "id": "lNDBMEIVhTch"
   },
   "outputs": [],
   "source": []
  }
 ],
 "metadata": {
  "colab": {
   "name": "data_prep.ipynb",
   "provenance": [],
   "version": "0.3.2"
  },
  "kernelspec": {
   "display_name": "Python 3",
   "language": "python",
   "name": "python3"
  },
  "language_info": {
   "codemirror_mode": {
    "name": "ipython",
    "version": 3
   },
   "file_extension": ".py",
   "mimetype": "text/x-python",
   "name": "python",
   "nbconvert_exporter": "python",
   "pygments_lexer": "ipython3",
   "version": "3.6.7"
  }
 },
 "nbformat": 4,
 "nbformat_minor": 1
}
