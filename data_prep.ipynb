{
 "cells": [
  {
   "cell_type": "code",
   "execution_count": 29,
   "metadata": {},
   "outputs": [],
   "source": [
    "%matplotlib inline\n",
    "import pandas as pd\n",
    "import datetime\n",
    "import pandas_datareader.data as web\n",
    "import matplotlib.pyplot as plt\n",
    "import torch\n",
    "from torch.utils.data import Dataset, DataLoader\n",
    "import numpy as np"
   ]
  },
  {
   "cell_type": "code",
   "execution_count": 31,
   "metadata": {},
   "outputs": [
    {
     "name": "stdout",
     "output_type": "stream",
     "text": [
      "       x_acc  y_acc  z_acc  x_gyro  y_gyro  z_gyro label\n",
      "time                                                    \n",
      "10000  0.092 -0.041 -0.028  11.265   2.235    9.82     a\n",
      "10000  0.092 -0.041 -0.028  11.265   2.235    9.82     a\n",
      "10000  0.092 -0.041 -0.028  11.265   2.235    9.82     a\n",
      "10000  0.092 -0.041 -0.028  11.265   2.235    9.82     a\n",
      "10000  0.092 -0.041 -0.028  11.265   2.235    9.82     a\n"
     ]
    }
   ],
   "source": [
    "df = pd.read_csv('final_data/a.csv', names = ['time', 'x_acc', 'y_acc', 'z_acc', 'x_gyro', 'y_gyro', 'z_gyro', 'label'], index_col = 0)\n",
    "print(df.head())"
   ]
  },
  {
   "cell_type": "code",
   "execution_count": null,
   "metadata": {},
   "outputs": [],
   "source": []
  }
 ],
 "metadata": {
  "kernelspec": {
   "display_name": "Python 3",
   "language": "python",
   "name": "python3"
  },
  "language_info": {
   "codemirror_mode": {
    "name": "ipython",
    "version": 3
   },
   "file_extension": ".py",
   "mimetype": "text/x-python",
   "name": "python",
   "nbconvert_exporter": "python",
   "pygments_lexer": "ipython3",
   "version": "3.7.1"
  }
 },
 "nbformat": 4,
 "nbformat_minor": 2
}
