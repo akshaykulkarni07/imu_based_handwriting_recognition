{
 "cells": [
  {
   "cell_type": "code",
   "execution_count": 26,
   "metadata": {},
   "outputs": [
    {
     "name": "stdout",
     "output_type": "stream",
     "text": [
      "1.0.0\n"
     ]
    }
   ],
   "source": [
    "%matplotlib inline\n",
    "import pandas as pd\n",
    "import datetime\n",
    "import pandas_datareader.data as web\n",
    "import matplotlib.pyplot as plt\n",
    "import torch\n",
    "from torch.utils.data import Dataset, DataLoader, SubsetRandomSampler\n",
    "from torch.utils.data.dataloader import default_collate\n",
    "import numpy as np\n",
    "import torch.nn as nn\n",
    "import torch.nn.functional as F\n",
    "from IPython.display import clear_output\n",
    "from torch.autograd import Variable\n",
    "print(torch.__version__)"
   ]
  },
  {
   "cell_type": "code",
   "execution_count": 42,
   "metadata": {},
   "outputs": [
    {
     "name": "stdout",
     "output_type": "stream",
     "text": [
      "(171600, 15)\n",
      "(21200, 15)\n",
      "(21200, 15)\n"
     ]
    }
   ],
   "source": [
    "reqd_len = 400\n",
    "channels = 6\n",
    "class IMUDataset(Dataset):\n",
    "    def __init__(self, mode = 'test', transform = None):\n",
    "        if mode == 'train' :\n",
    "            self.df = pd.read_csv('final_data/train.csv', header = None)\n",
    "        elif mode == 'test' :\n",
    "            self.df = pd.read_csv('final_data/test.csv', header = None)\n",
    "        elif mode == 'val' :\n",
    "            self.df = pd.read_csv('final_data/val.csv', header = None)\n",
    "        self.transform = transform\n",
    "        print(self.df.shape)\n",
    "        \n",
    "    def __len__(self):\n",
    "        return len(self.df)\n",
    "    \n",
    "    def __getitem__(self, idx):\n",
    "        y = self.df.iloc[idx : idx + reqd_len, 6 : ].values\n",
    "        ind = np.argmax(np.sum(y, axis = 0))\n",
    "        label = np.zeros_like(self.df.iloc[0, 6 : ].values)\n",
    "        label = label.astype('float')\n",
    "        label[ind] = 1\n",
    "        x = self.df.iloc[idx : idx + reqd_len, : channels].values\n",
    "        x = x.astype('float')\n",
    "        x = x.reshape(reqd_len, channels)\n",
    "        assert(x.shape == (reqd_len, channels))\n",
    "        assert(label.shape == (9, ))\n",
    "        return x, label\n",
    "        \n",
    "trainset = IMUDataset(mode = 'train')\n",
    "valset = IMUDataset(mode = 'val')\n",
    "testset = IMUDataset(mode = 'test')"
   ]
  },
  {
   "cell_type": "code",
   "execution_count": 43,
   "metadata": {},
   "outputs": [
    {
     "name": "stdout",
     "output_type": "stream",
     "text": [
      "torch.Size([8, 400, 6])\n",
      "torch.Size([8, 9])\n"
     ]
    }
   ],
   "source": [
    "train_batch_size = 8\n",
    "batch_size = 2\n",
    "train_indices = [(i * reqd_len) for i in range(len(trainset) // reqd_len)]\n",
    "val_indices = [(i * reqd_len) for i in range(len(valset) // reqd_len)]\n",
    "test_indices = [(i * reqd_len) for i in range(len(testset) // reqd_len)]\n",
    "\n",
    "trainloader = DataLoader(trainset, batch_size = train_batch_size, sampler = SubsetRandomSampler(train_indices), drop_last = True)\n",
    "valloader = DataLoader(valset, batch_size = batch_size, sampler = SubsetRandomSampler(val_indices), drop_last = True)\n",
    "testloader = DataLoader(testset, batch_size = batch_size, sampler = SubsetRandomSampler(test_indices), drop_last = True)\n",
    "\n",
    "signal, label = next(iter(trainloader))\n",
    "print(signal.shape)\n",
    "print(label.shape)"
   ]
  },
  {
   "cell_type": "code",
   "execution_count": 44,
   "metadata": {},
   "outputs": [
    {
     "name": "stdout",
     "output_type": "stream",
     "text": [
      "398.0\n",
      "396.0\n",
      "394.0\n"
     ]
    }
   ],
   "source": [
    "# print(len(trainloader))\n",
    "# print(len(testloader))\n",
    "# print(len(valloader))\n",
    "def output_size(n, f, p = 0, s = 1):\n",
    "    return (((n + 2 * p - f) / s) + 1)\n",
    "print(output_size(400, 3))\n",
    "print(output_size(398, 3))\n",
    "print(output_size(396, 3))"
   ]
  },
  {
   "cell_type": "code",
   "execution_count": 45,
   "metadata": {},
   "outputs": [],
   "source": [
    "class ConvNet(nn.Module):\n",
    "    def __init__(self):\n",
    "        super(ConvNet, self).__init__()\n",
    "        # defining layers\n",
    "        self.conv1 = nn.Conv1d(6, 10, 3)\n",
    "        self.conv2 = nn.Conv1d(10, 15, 3)\n",
    "        self.conv3 = nn.Conv1d(15, 20, 3)\n",
    "        self.fc1 = nn.Linear(394 * 20, 512)\n",
    "        self.fc2 = nn.Linear(512, 9)\n",
    "        \n",
    "        nn.init.xavier_uniform_(self.conv1.weight, gain = nn.init.calculate_gain('relu'))\n",
    "        nn.init.xavier_uniform_(self.conv2.weight, gain = nn.init.calculate_gain('relu'))\n",
    "        nn.init.xavier_uniform_(self.conv3.weight, gain = nn.init.calculate_gain('relu'))\n",
    "        nn.init.xavier_uniform_(self.fc1.weight, gain = nn.init.calculate_gain('relu'))\n",
    "        nn.init.xavier_uniform_(self.fc2.weight, gain = nn.init.calculate_gain('sigmoid'))\n",
    "        \n",
    "    def forward(self, signal):\n",
    "        signal = signal.view(-1, 6, 400)\n",
    "        out = F.relu(self.conv1(signal))\n",
    "        out = F.relu(self.conv2(out))\n",
    "        out = F.relu(self.conv3(out))\n",
    "        out = out.view(-1, 394 * 20)\n",
    "        out = F.relu(self.fc1(out))\n",
    "        out = self.fc2(out)\n",
    "        out = F.log_softmax(out, dim = 1)\n",
    "        return out\n",
    "\n",
    "Net = ConvNet()\n",
    "if torch.cuda.is_available():\n",
    "    print('Model on GPU')\n",
    "    Net = Net.cuda()"
   ]
  },
  {
   "cell_type": "code",
   "execution_count": 46,
   "metadata": {},
   "outputs": [],
   "source": [
    "import torch.optim as optim\n",
    "criterion = nn.CrossEntropyLoss()\n",
    "optimizer = optim.Adam(Net.parameters(), lr=1e-3)"
   ]
  },
  {
   "cell_type": "code",
   "execution_count": 47,
   "metadata": {},
   "outputs": [
    {
     "name": "stdout",
     "output_type": "stream",
     "text": [
      "epoch =  0  step =  0  of total steps  21450  loss =  2.3029592037200928\n",
      "epoch =  0  step =  20  of total steps  21450  loss =  3.008242130279541\n",
      "epoch =  0  step =  40  of total steps  21450  loss =  1.6029582023620605\n",
      "epoch :  0  /  30  | TL :  3.006081500143375  | VL :  1.5250192880630493\n",
      "saving model\n",
      "epoch =  1  step =  0  of total steps  21450  loss =  1.472991704940796\n",
      "epoch =  1  step =  20  of total steps  21450  loss =  1.0944197177886963\n",
      "epoch =  1  step =  40  of total steps  21450  loss =  0.46291738748550415\n",
      "epoch :  1  /  30  | TL :  0.9185394667229563  | VL :  0.4250469505786896\n",
      "saving model\n",
      "epoch =  2  step =  0  of total steps  21450  loss =  0.3366648554801941\n",
      "epoch =  2  step =  20  of total steps  21450  loss =  1.0221871137619019\n",
      "epoch =  2  step =  40  of total steps  21450  loss =  0.14349757134914398\n",
      "epoch :  2  /  30  | TL :  0.3175576704571832  | VL :  0.19555868208408356\n",
      "saving model\n",
      "epoch =  3  step =  0  of total steps  21450  loss =  0.07231862097978592\n",
      "epoch =  3  step =  20  of total steps  21450  loss =  0.2732880413532257\n",
      "epoch =  3  step =  40  of total steps  21450  loss =  0.14296603202819824\n",
      "epoch :  3  /  30  | TL :  0.1922709909179863  | VL :  0.14177988469600677\n",
      "saving model\n",
      "epoch =  4  step =  0  of total steps  21450  loss =  0.02281065657734871\n",
      "epoch =  4  step =  20  of total steps  21450  loss =  0.0185227207839489\n",
      "epoch =  4  step =  40  of total steps  21450  loss =  0.0872119888663292\n",
      "epoch :  4  /  30  | TL :  0.13492296875085472  | VL :  0.21254342794418335\n",
      "epoch =  5  step =  0  of total steps  21450  loss =  0.6460542678833008\n",
      "epoch =  5  step =  20  of total steps  21450  loss =  0.3576323390007019\n",
      "epoch =  5  step =  40  of total steps  21450  loss =  0.17521241307258606\n",
      "epoch :  5  /  30  | TL :  0.12515356085913362  | VL :  0.23209594190120697\n",
      "epoch =  6  step =  0  of total steps  21450  loss =  0.15031155943870544\n",
      "epoch =  6  step =  20  of total steps  21450  loss =  0.004621309228241444\n",
      "epoch =  6  step =  40  of total steps  21450  loss =  0.0158565454185009\n",
      "epoch :  6  /  30  | TL :  0.11346129531849106  | VL :  0.13986504077911377\n",
      "saving model\n",
      "epoch =  7  step =  0  of total steps  21450  loss =  0.02544645220041275\n",
      "epoch =  7  step =  20  of total steps  21450  loss =  0.3940487802028656\n",
      "epoch =  7  step =  40  of total steps  21450  loss =  0.11715548485517502\n",
      "epoch :  7  /  30  | TL :  0.12331107784642505  | VL :  0.10956693440675735\n",
      "saving model\n",
      "epoch =  8  step =  0  of total steps  21450  loss =  0.012961405329406261\n",
      "epoch =  8  step =  20  of total steps  21450  loss =  0.03838668391108513\n",
      "epoch =  8  step =  40  of total steps  21450  loss =  0.08517962694168091\n",
      "epoch :  8  /  30  | TL :  0.07997354398534265  | VL :  0.0810510665178299\n",
      "saving model\n",
      "epoch =  9  step =  0  of total steps  21450  loss =  0.562362015247345\n",
      "epoch =  9  step =  20  of total steps  21450  loss =  0.019689228385686874\n",
      "epoch =  9  step =  40  of total steps  21450  loss =  0.03099709376692772\n",
      "epoch :  9  /  30  | TL :  0.08113090501096591  | VL :  0.107054702937603\n",
      "epoch =  10  step =  0  of total steps  21450  loss =  0.09472888708114624\n",
      "epoch =  10  step =  20  of total steps  21450  loss =  0.9819892644882202\n",
      "epoch =  10  step =  40  of total steps  21450  loss =  0.005884702317416668\n",
      "epoch :  10  /  30  | TL :  0.07281400505365487  | VL :  0.09473327547311783\n",
      "epoch =  11  step =  0  of total steps  21450  loss =  0.01715519092977047\n",
      "epoch =  11  step =  20  of total steps  21450  loss =  0.01326005905866623\n",
      "epoch =  11  step =  40  of total steps  21450  loss =  0.028290754184126854\n",
      "epoch :  11  /  30  | TL :  0.04263574744680158  | VL :  0.11671339720487595\n",
      "epoch =  12  step =  0  of total steps  21450  loss =  0.013775322586297989\n",
      "epoch =  12  step =  20  of total steps  21450  loss =  0.0030744546093046665\n",
      "epoch =  12  step =  40  of total steps  21450  loss =  0.003716203151270747\n",
      "epoch :  12  /  30  | TL :  0.038762654846683495  | VL :  0.2430569976568222\n",
      "epoch =  13  step =  0  of total steps  21450  loss =  0.06425540894269943\n",
      "epoch =  13  step =  20  of total steps  21450  loss =  0.027765098959207535\n",
      "epoch =  13  step =  40  of total steps  21450  loss =  0.10168380290269852\n",
      "epoch :  13  /  30  | TL :  0.07757524290245096  | VL :  0.2328595370054245\n",
      "epoch =  14  step =  0  of total steps  21450  loss =  0.009213943034410477\n",
      "epoch =  14  step =  20  of total steps  21450  loss =  0.008010766468942165\n",
      "epoch =  14  step =  40  of total steps  21450  loss =  0.002554339123889804\n",
      "epoch :  14  /  30  | TL :  0.03381455501207625  | VL :  0.07557042688131332\n",
      "saving model\n",
      "epoch =  15  step =  0  of total steps  21450  loss =  0.001753354794345796\n",
      "epoch =  15  step =  20  of total steps  21450  loss =  0.005400632508099079\n",
      "epoch =  15  step =  40  of total steps  21450  loss =  0.017849598079919815\n",
      "epoch :  15  /  30  | TL :  0.04936250583664075  | VL :  0.06107722967863083\n",
      "saving model\n",
      "epoch =  16  step =  0  of total steps  21450  loss =  0.005365973338484764\n",
      "epoch =  16  step =  20  of total steps  21450  loss =  0.00767643004655838\n",
      "epoch =  16  step =  40  of total steps  21450  loss =  0.04913967475295067\n",
      "epoch :  16  /  30  | TL :  0.0367235829251959  | VL :  0.1707640439271927\n",
      "epoch =  17  step =  0  of total steps  21450  loss =  0.01454134751111269\n",
      "epoch =  17  step =  20  of total steps  21450  loss =  0.029900094494223595\n",
      "epoch =  17  step =  40  of total steps  21450  loss =  0.023242520168423653\n",
      "epoch :  17  /  30  | TL :  0.04752198252321731  | VL :  0.06050584092736244\n",
      "saving model\n",
      "epoch =  18  step =  0  of total steps  21450  loss =  0.010380707681179047\n",
      "epoch =  18  step =  20  of total steps  21450  loss =  0.019815463572740555\n",
      "epoch =  18  step =  40  of total steps  21450  loss =  0.000451720436103642\n",
      "epoch :  18  /  30  | TL :  0.021804613554366987  | VL :  0.09521903097629547\n",
      "epoch =  19  step =  0  of total steps  21450  loss =  0.001993304118514061\n",
      "epoch =  19  step =  20  of total steps  21450  loss =  0.0067993770353496075\n",
      "epoch =  19  step =  40  of total steps  21450  loss =  0.033611610531806946\n",
      "epoch :  19  /  30  | TL :  0.04088410693423972  | VL :  0.26409295201301575\n",
      "epoch =  20  step =  0  of total steps  21450  loss =  0.029499739408493042\n",
      "epoch =  20  step =  20  of total steps  21450  loss =  0.0022310204803943634\n",
      "epoch =  20  step =  40  of total steps  21450  loss =  0.0016108308918774128\n",
      "epoch :  20  /  30  | TL :  0.033045327949847256  | VL :  0.10004561394453049\n",
      "epoch =  21  step =  0  of total steps  21450  loss =  0.0004368547524791211\n",
      "epoch =  21  step =  20  of total steps  21450  loss =  0.30712804198265076\n",
      "epoch =  21  step =  40  of total steps  21450  loss =  0.0065725878812372684\n",
      "epoch :  21  /  30  | TL :  0.027934935040286532  | VL :  0.09229155629873276\n",
      "epoch =  22  step =  0  of total steps  21450  loss =  0.0172224510461092\n",
      "epoch =  22  step =  20  of total steps  21450  loss =  0.00172868138179183\n",
      "epoch =  22  step =  40  of total steps  21450  loss =  0.0026572681963443756\n",
      "epoch :  22  /  30  | TL :  0.02506403120252181  | VL :  0.0685708299279213\n",
      "epoch =  23  step =  0  of total steps  21450  loss =  0.0051140631549060345\n",
      "epoch =  23  step =  20  of total steps  21450  loss =  0.0014080109540373087\n",
      "epoch =  23  step =  40  of total steps  21450  loss =  0.004202838055789471\n",
      "epoch :  23  /  30  | TL :  0.016840537138533656  | VL :  0.04685742035508156\n",
      "saving model\n",
      "epoch =  24  step =  0  of total steps  21450  loss =  0.0017250434029847383\n",
      "epoch =  24  step =  20  of total steps  21450  loss =  0.0013013177085667849\n",
      "epoch =  24  step =  40  of total steps  21450  loss =  0.0018522044410929084\n",
      "epoch :  24  /  30  | TL :  0.03844787377492362  | VL :  0.17767445743083954\n",
      "epoch =  25  step =  0  of total steps  21450  loss =  0.0015756108332425356\n",
      "epoch =  25  step =  20  of total steps  21450  loss =  0.0011737440945580602\n",
      "epoch =  25  step =  40  of total steps  21450  loss =  0.010972052812576294\n",
      "epoch :  25  /  30  | TL :  0.03718283047179147  | VL :  0.0707198828458786\n",
      "epoch =  26  step =  0  of total steps  21450  loss =  0.005145193077623844\n",
      "epoch =  26  step =  20  of total steps  21450  loss =  0.0052719986997544765\n",
      "epoch =  26  step =  40  of total steps  21450  loss =  0.00731429411098361\n"
     ]
    },
    {
     "name": "stdout",
     "output_type": "stream",
     "text": [
      "epoch :  26  /  30  | TL :  0.059972180755927564  | VL :  0.084590382874012\n",
      "epoch =  27  step =  0  of total steps  21450  loss =  0.008648348040878773\n",
      "epoch =  27  step =  20  of total steps  21450  loss =  0.001362097798846662\n",
      "epoch =  27  step =  40  of total steps  21450  loss =  0.0009781268890947104\n",
      "epoch :  27  /  30  | TL :  0.017189878304840398  | VL :  0.04839883744716644\n",
      "epoch =  28  step =  0  of total steps  21450  loss =  0.0011327445972710848\n",
      "epoch =  28  step =  20  of total steps  21450  loss =  0.001324089476838708\n",
      "epoch =  28  step =  40  of total steps  21450  loss =  0.0009485339978709817\n",
      "epoch :  28  /  30  | TL :  0.016406225004312495  | VL :  0.04894803464412689\n",
      "epoch =  29  step =  0  of total steps  21450  loss =  0.021415645256638527\n",
      "epoch =  29  step =  20  of total steps  21450  loss =  0.0005858917720615864\n",
      "epoch =  29  step =  40  of total steps  21450  loss =  0.45238062739372253\n",
      "epoch :  29  /  30  | TL :  0.016792639956687675  | VL :  0.07136289775371552\n"
     ]
    }
   ],
   "source": [
    "num_epochs = 30\n",
    "total_step = len(trainset) // train_batch_size\n",
    "train_loss_list = list()\n",
    "val_loss_list = list()\n",
    "min_val = 100\n",
    "for epoch in range(num_epochs):\n",
    "    trn = []\n",
    "    Net.train()\n",
    "    for i, (images, labels) in enumerate(trainloader) :\n",
    "        if torch.cuda.is_available():\n",
    "            images = Variable(images).cuda().float()\n",
    "            labels = Variable(labels).cuda()\n",
    "        else : \n",
    "            images = Variable(images).float()\n",
    "            labels = Variable(labels)\n",
    "        \n",
    "        _, target = torch.max(labels, 1)\n",
    "\n",
    "        y_pred = Net(images)\n",
    "        \n",
    "        loss = criterion(y_pred, target)\n",
    "        trn.append(loss.item())\n",
    "\n",
    "        optimizer.zero_grad()\n",
    "        loss.backward()\n",
    "        torch.nn.utils.clip_grad_value_(Net.parameters(), 10)\n",
    "        optimizer.step()\n",
    "\n",
    "        if i % 20 == 0 :\n",
    "            print('epoch = ', epoch, ' step = ', i, ' of total steps ', total_step, ' loss = ', loss.item())\n",
    "            \n",
    "    train_loss = (sum(trn) / len(trn))\n",
    "    train_loss_list.append(train_loss)\n",
    "    \n",
    "    Net.eval()\n",
    "    val = []\n",
    "    with torch.no_grad() :\n",
    "        for i, (images, labels) in enumerate(valloader) :\n",
    "            if torch.cuda.is_available():\n",
    "                images = Variable(images).cuda().float()\n",
    "                labels = Variable(labels).cuda()\n",
    "            else : \n",
    "                images = Variable(images).float()\n",
    "                labels = Variable(labels)\n",
    "                \n",
    "            _, target = torch.max(labels, 1)\n",
    "\n",
    "            # Forward pass\n",
    "            outputs = Net(images)\n",
    "            loss = criterion(outputs, target)\n",
    "            val.append(loss)\n",
    "\n",
    "    val_loss = (sum(val) / len(val)).item()\n",
    "    val_loss_list.append(val_loss)\n",
    "    print('epoch : ', epoch, ' / ', num_epochs, ' | TL : ', train_loss, ' | VL : ', val_loss)\n",
    "    \n",
    "    if val_loss < min_val :\n",
    "        print('saving model')\n",
    "        min_val = val_loss\n",
    "        torch.save(Net.state_dict(), '3conv2fc_x_acc.pt')"
   ]
  },
  {
   "cell_type": "code",
   "execution_count": 48,
   "metadata": {},
   "outputs": [
    {
     "data": {
      "text/plain": [
       "[<matplotlib.lines.Line2D at 0x231ea7d07f0>,\n",
       " <matplotlib.lines.Line2D at 0x231ea7d06a0>]"
      ]
     },
     "execution_count": 48,
     "metadata": {},
     "output_type": "execute_result"
    },
    {
     "data": {
      "image/png": "[encoded data removed]",
      "text/plain": [
       "<Figure size 432x288 with 1 Axes>"
      ]
     },
     "metadata": {
      "needs_background": "light"
     },
     "output_type": "display_data"
    }
   ],
   "source": [
    "j = np.arange(30)\n",
    "plt.plot(j, train_loss_list, 'r', j, val_loss_list, 'g')"
   ]
  },
  {
   "cell_type": "code",
   "execution_count": 49,
   "metadata": {},
   "outputs": [],
   "source": [
    "Net = ConvNet().eval()\n",
    "Net.load_state_dict(torch.load('3conv2fc_x_acc.pt'))\n",
    "# print(Net.state_dict())"
   ]
  },
  {
   "cell_type": "code",
   "execution_count": 50,
   "metadata": {},
   "outputs": [
    {
     "data": {
      "text/plain": [
       "ConvNet(\n",
       "  (conv1): Conv1d(6, 10, kernel_size=(3,), stride=(1,))\n",
       "  (conv2): Conv1d(10, 15, kernel_size=(3,), stride=(1,))\n",
       "  (conv3): Conv1d(15, 20, kernel_size=(3,), stride=(1,))\n",
       "  (fc1): Linear(in_features=7880, out_features=512, bias=True)\n",
       "  (fc2): Linear(in_features=512, out_features=9, bias=True)\n",
       ")"
      ]
     },
     "execution_count": 50,
     "metadata": {},
     "output_type": "execute_result"
    }
   ],
   "source": [
    "def _get_accuracy(dataloader):\n",
    "    total = 0\n",
    "    correct = 0\n",
    "    Net.eval()\n",
    "    for i, (images, labels) in enumerate(dataloader):\n",
    "        images = Variable(images).float()\n",
    "        labels = Variable(labels).float()\n",
    "#         print(images)\n",
    "        outputs = Net(images)\n",
    "#         print('Output : ')\n",
    "#         print(outputs)\n",
    "        \n",
    "        _, label_ind = torch.max(labels, 1)\n",
    "        _, pred_ind = torch.max(outputs, 1)\n",
    "        \n",
    "        # converting to numpy arrays\n",
    "        label_ind = label_ind.data.numpy()\n",
    "        pred_ind = pred_ind.data.numpy()\n",
    "        \n",
    "#         print('Label : ')\n",
    "#         print(label_ind)\n",
    "#         print('Prediction : ')\n",
    "#         print(pred_ind)\n",
    "        \n",
    "        # get difference\n",
    "        diff_ind = label_ind - pred_ind\n",
    "        # correctly classified will be 1 and will get added\n",
    "        # incorrectly classified will be 0\n",
    "        correct += np.count_nonzero(diff_ind == 0)\n",
    "        total += len(diff_ind)\n",
    "\n",
    "#         print('correct - ', correct, ' of ', total, 'as of now')\n",
    "#         print('image - ', total, ' of ', len(dataloader.dataset) // 80)\n",
    "\n",
    "    accuracy = correct / total\n",
    "    # print(len(diff_ind))\n",
    "    return accuracy\n",
    "\n",
    "Net.cpu()\n",
    "# _get_accuracy(trainloader)"
   ]
  },
  {
   "cell_type": "code",
   "execution_count": 51,
   "metadata": {},
   "outputs": [
    {
     "name": "stdout",
     "output_type": "stream",
     "text": [
      "0.9976415094339622\n",
      "1.0\n",
      "1.0\n"
     ]
    }
   ],
   "source": [
    "print(_get_accuracy(trainloader))\n",
    "print(_get_accuracy(valloader))\n",
    "print(_get_accuracy(testloader))"
   ]
  },
  {
   "cell_type": "code",
   "execution_count": null,
   "metadata": {},
   "outputs": [],
   "source": []
  }
 ],
 "metadata": {
  "kernelspec": {
   "display_name": "Python 3",
   "language": "python",
   "name": "python3"
  },
  "language_info": {
   "codemirror_mode": {
    "name": "ipython",
    "version": 3
   },
   "file_extension": ".py",
   "mimetype": "text/x-python",
   "name": "python",
   "nbconvert_exporter": "python",
   "pygments_lexer": "ipython3",
   "version": "3.7.1"
  }
 },
 "nbformat": 4,
 "nbformat_minor": 2
}
