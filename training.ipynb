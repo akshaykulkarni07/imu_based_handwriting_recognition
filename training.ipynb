{
 "cells": [
  {
   "cell_type": "code",
   "execution_count": 6,
   "metadata": {},
   "outputs": [
    {
     "name": "stdout",
     "output_type": "stream",
     "text": [
      "1.0.0\n"
     ]
    }
   ],
   "source": [
    "%matplotlib inline\n",
    "import pandas as pd\n",
    "import datetime\n",
    "import pandas_datareader.data as web\n",
    "import matplotlib.pyplot as plt\n",
    "import torch\n",
    "from torch.utils.data import Dataset, DataLoader, SubsetRandomSampler\n",
    "from torch.utils.data.dataloader import default_collate\n",
    "import numpy as np\n",
    "import torch.nn as nn\n",
    "import torch.nn.functional as F\n",
    "from IPython.display import clear_output\n",
    "from torch.autograd import Variable\n",
    "print(torch.__version__)"
   ]
  },
  {
   "cell_type": "code",
   "execution_count": 46,
   "metadata": {},
   "outputs": [
    {
     "name": "stdout",
     "output_type": "stream",
     "text": [
      "(52500, 10)\n",
      "(6600, 10)\n",
      "(6600, 10)\n"
     ]
    }
   ],
   "source": [
    "class IMUDataset(Dataset):\n",
    "    def __init__(self, mode = 'test', transform = None):\n",
    "        if mode == 'train' :\n",
    "            self.df = pd.read_csv('final_data/train.csv', header = None)\n",
    "        elif mode == 'test' :\n",
    "            self.df = pd.read_csv('final_data/test.csv', header = None)\n",
    "        elif mode == 'val' :\n",
    "            self.df = pd.read_csv('final_data/val.csv', header = None)\n",
    "        self.transform = transform\n",
    "        print(self.df.shape)\n",
    "        \n",
    "    def __len__(self):\n",
    "        return len(self.df)\n",
    "    \n",
    "    def __getitem__(self, idx):\n",
    "        y = self.df.iloc[idx : idx + 300, 6 : ].values\n",
    "        ind = np.argmax(np.sum(y, axis = 0))\n",
    "        label = np.zeros_like(self.df.iloc[0, 6 : ].values)\n",
    "        label = label.astype('float')\n",
    "        label[ind] = 1\n",
    "        x = self.df.iloc[idx : idx + 300, : 6].values\n",
    "        x = x.astype('float')\n",
    "        assert(x.shape == (300, 6))\n",
    "        assert(label.shape == (4, ))\n",
    "        return x, label\n",
    "        \n",
    "trainset = IMUDataset(mode = 'train')\n",
    "valset = IMUDataset(mode = 'val')\n",
    "testset = IMUDataset(mode = 'test')"
   ]
  },
  {
   "cell_type": "code",
   "execution_count": 48,
   "metadata": {},
   "outputs": [
    {
     "name": "stdout",
     "output_type": "stream",
     "text": [
      "torch.Size([8, 300, 6])\n",
      "torch.Size([8, 4])\n"
     ]
    }
   ],
   "source": [
    "reqd_len = 300\n",
    "train_batch_size = 8\n",
    "batch_size = 2\n",
    "train_indices = [(i * reqd_len) for i in range(len(trainset) // reqd_len)]\n",
    "val_indices = [(i * reqd_len) for i in range(len(valset) // reqd_len)]\n",
    "test_indices = [(i * reqd_len) for i in range(len(testset) // reqd_len)]\n",
    "\n",
    "trainloader = DataLoader(trainset, batch_size = train_batch_size, sampler = SubsetRandomSampler(train_indices), drop_last = True)\n",
    "valloader = DataLoader(valset, batch_size = batch_size, sampler = SubsetRandomSampler(val_indices), drop_last = True)\n",
    "testloader = DataLoader(testset, batch_size = batch_size, sampler = SubsetRandomSampler(test_indices), drop_last = True)\n",
    "\n",
    "signal, label = next(iter(trainloader))\n",
    "print(signal.shape)\n",
    "print(label.shape)"
   ]
  },
  {
   "cell_type": "code",
   "execution_count": 51,
   "metadata": {},
   "outputs": [
    {
     "name": "stdout",
     "output_type": "stream",
     "text": [
      "298.0\n",
      "296.0\n",
      "294.0\n"
     ]
    }
   ],
   "source": [
    "# print(len(trainloader))\n",
    "# print(len(testloader))\n",
    "# print(len(valloader))\n",
    "def output_size(n, f, p = 0, s = 1):\n",
    "    return (((n + 2 * p - f) / s) + 1)\n",
    "print(output_size(300, 3))\n",
    "print(output_size(298, 3))\n",
    "print(output_size(296, 3))"
   ]
  },
  {
   "cell_type": "code",
   "execution_count": 59,
   "metadata": {},
   "outputs": [],
   "source": [
    "class ConvNet(nn.Module):\n",
    "    def __init__(self):\n",
    "        super(ConvNet, self).__init__()\n",
    "        # defining layers\n",
    "        self.conv1 = nn.Conv1d(6, 10, 3)\n",
    "        self.conv2 = nn.Conv1d(10, 15, 3)\n",
    "        self.conv3 = nn.Conv1d(15, 20, 3)\n",
    "        self.fc1 = nn.Linear(294 * 20, 512)\n",
    "        self.fc2 = nn.Linear(512, 4)\n",
    "        \n",
    "        nn.init.xavier_uniform_(self.conv1.weight, gain = nn.init.calculate_gain('relu'))\n",
    "        nn.init.xavier_uniform_(self.conv2.weight, gain = nn.init.calculate_gain('relu'))\n",
    "        nn.init.xavier_uniform_(self.conv3.weight, gain = nn.init.calculate_gain('relu'))\n",
    "        nn.init.xavier_uniform_(self.fc1.weight, gain = nn.init.calculate_gain('relu'))\n",
    "        nn.init.xavier_uniform_(self.fc2.weight, gain = nn.init.calculate_gain('sigmoid'))\n",
    "        \n",
    "    def forward(self, signal):\n",
    "        signal = signal.view(-1, 6, 300)\n",
    "        out = F.relu(self.conv1(signal))\n",
    "        out = F.relu(self.conv2(out))\n",
    "        out = F.relu(self.conv3(out))\n",
    "        out = out.view(-1, 294 * 20)\n",
    "        out = F.relu(self.fc1(out))\n",
    "        out = self.fc2(out)\n",
    "        out = F.log_softmax(out, dim = 1)\n",
    "        return out\n",
    "\n",
    "Net = ConvNet()\n",
    "if torch.cuda.is_available():\n",
    "    print('Model on GPU')\n",
    "    Net = Net.cuda()"
   ]
  },
  {
   "cell_type": "code",
   "execution_count": 60,
   "metadata": {},
   "outputs": [],
   "source": [
    "import torch.optim as optim\n",
    "criterion = nn.CrossEntropyLoss()\n",
    "optimizer = optim.Adam(Net.parameters(), lr=1e-3)"
   ]
  },
  {
   "cell_type": "code",
   "execution_count": 61,
   "metadata": {},
   "outputs": [
    {
     "name": "stdout",
     "output_type": "stream",
     "text": [
      "epoch =  0  step =  0  of total steps  6562  loss =  1.3489880561828613\n",
      "epoch =  0  step =  20  of total steps  6562  loss =  1.0555881261825562\n",
      "epoch :  0  /  30  | TL :  2.14180094287509  | VL :  1.0195603370666504\n",
      "saving model\n",
      "epoch =  1  step =  0  of total steps  6562  loss =  1.0251587629318237\n",
      "epoch =  1  step =  20  of total steps  6562  loss =  0.46779364347457886\n",
      "epoch :  1  /  30  | TL :  0.6004469352109092  | VL :  0.2959310710430145\n",
      "saving model\n",
      "epoch =  2  step =  0  of total steps  6562  loss =  0.19593290984630585\n",
      "epoch =  2  step =  20  of total steps  6562  loss =  0.06102434918284416\n",
      "epoch :  2  /  30  | TL :  0.16898431753118834  | VL :  0.07256618142127991\n",
      "saving model\n",
      "epoch =  3  step =  0  of total steps  6562  loss =  0.062477145344018936\n",
      "epoch =  3  step =  20  of total steps  6562  loss =  0.02252955175936222\n",
      "epoch :  3  /  30  | TL :  0.0806790887422505  | VL :  0.032675620168447495\n",
      "saving model\n",
      "epoch =  4  step =  0  of total steps  6562  loss =  0.027937553822994232\n",
      "epoch =  4  step =  20  of total steps  6562  loss =  0.376395583152771\n",
      "epoch :  4  /  30  | TL :  0.0689215310184019  | VL :  0.0185655876994133\n",
      "saving model\n",
      "epoch =  5  step =  0  of total steps  6562  loss =  0.025575457140803337\n",
      "epoch =  5  step =  20  of total steps  6562  loss =  0.010384554043412209\n",
      "epoch :  5  /  30  | TL :  0.0525841565713996  | VL :  0.046088699251413345\n",
      "epoch =  6  step =  0  of total steps  6562  loss =  0.030232446268200874\n",
      "epoch =  6  step =  20  of total steps  6562  loss =  0.05691888928413391\n",
      "epoch :  6  /  30  | TL :  0.053093803425629936  | VL :  0.05668995529413223\n",
      "epoch =  7  step =  0  of total steps  6562  loss =  0.027539534494280815\n",
      "epoch =  7  step =  20  of total steps  6562  loss =  0.006056744139641523\n",
      "epoch :  7  /  30  | TL :  0.06144374963783082  | VL :  0.027535105124115944\n",
      "epoch =  8  step =  0  of total steps  6562  loss =  0.005244274158030748\n",
      "epoch =  8  step =  20  of total steps  6562  loss =  0.009082633070647717\n",
      "epoch :  8  /  30  | TL :  0.008798115543045458  | VL :  0.00253780628554523\n",
      "saving model\n",
      "epoch =  9  step =  0  of total steps  6562  loss =  0.0036027319729328156\n",
      "epoch =  9  step =  20  of total steps  6562  loss =  0.004898081999272108\n",
      "epoch :  9  /  30  | TL :  0.008553427286512618  | VL :  0.013071751222014427\n",
      "epoch =  10  step =  0  of total steps  6562  loss =  0.00436435779556632\n",
      "epoch =  10  step =  20  of total steps  6562  loss =  0.12011168897151947\n",
      "epoch :  10  /  30  | TL :  0.014058972259850375  | VL :  0.0017621456645429134\n",
      "saving model\n",
      "epoch =  11  step =  0  of total steps  6562  loss =  0.0009169431286863983\n",
      "epoch =  11  step =  20  of total steps  6562  loss =  0.0019750730134546757\n",
      "epoch :  11  /  30  | TL :  0.009717388832498165  | VL :  0.001641261507757008\n",
      "saving model\n",
      "epoch =  12  step =  0  of total steps  6562  loss =  0.01613951474428177\n",
      "epoch =  12  step =  20  of total steps  6562  loss =  0.0012153646675869823\n",
      "epoch :  12  /  30  | TL :  0.006454760837923026  | VL :  0.0013575019547715783\n",
      "saving model\n",
      "epoch =  13  step =  0  of total steps  6562  loss =  0.001853463938459754\n",
      "epoch =  13  step =  20  of total steps  6562  loss =  0.00044758786680176854\n",
      "epoch :  13  /  30  | TL :  0.003596913002963577  | VL :  0.0037718566600233316\n",
      "epoch =  14  step =  0  of total steps  6562  loss =  0.002520430600270629\n",
      "epoch =  14  step =  20  of total steps  6562  loss =  0.0035868429113179445\n",
      "epoch :  14  /  30  | TL :  0.002302235027032328  | VL :  0.0011723096249625087\n",
      "saving model\n",
      "epoch =  15  step =  0  of total steps  6562  loss =  0.003163744229823351\n",
      "epoch =  15  step =  20  of total steps  6562  loss =  0.001324494369328022\n",
      "epoch :  15  /  30  | TL :  0.0014798721184931872  | VL :  0.0011769236298277974\n",
      "epoch =  16  step =  0  of total steps  6562  loss =  0.007058275863528252\n",
      "epoch =  16  step =  20  of total steps  6562  loss =  0.0014058833476155996\n",
      "epoch :  16  /  30  | TL :  0.0014654389385777037  | VL :  0.0013885749503970146\n",
      "epoch =  17  step =  0  of total steps  6562  loss =  0.000726377300452441\n",
      "epoch =  17  step =  20  of total steps  6562  loss =  0.00033961550798267126\n",
      "epoch :  17  /  30  | TL :  0.0011512118501178477  | VL :  0.0008283869829028845\n",
      "saving model\n",
      "epoch =  18  step =  0  of total steps  6562  loss =  0.0017438149079680443\n",
      "epoch =  18  step =  20  of total steps  6562  loss =  0.003653548890724778\n",
      "epoch :  18  /  30  | TL :  0.0010482346780398594  | VL :  0.0009496280690655112\n",
      "epoch =  19  step =  0  of total steps  6562  loss =  0.0013516609324142337\n",
      "epoch =  19  step =  20  of total steps  6562  loss =  0.000891893170773983\n",
      "epoch :  19  /  30  | TL :  0.0009782039085707982  | VL :  0.0009099505259655416\n",
      "epoch =  20  step =  0  of total steps  6562  loss =  0.0016846308717504144\n",
      "epoch =  20  step =  20  of total steps  6562  loss =  0.0002679038152564317\n",
      "epoch :  20  /  30  | TL :  0.0009716659399037738  | VL :  0.0008341631037183106\n",
      "epoch =  21  step =  0  of total steps  6562  loss =  0.000503977236803621\n",
      "epoch =  21  step =  20  of total steps  6562  loss =  0.0006483839242719114\n",
      "epoch :  21  /  30  | TL :  0.0008621364367649047  | VL :  0.0007277848781086504\n",
      "saving model\n",
      "epoch =  22  step =  0  of total steps  6562  loss =  0.00047058850759640336\n",
      "epoch =  22  step =  20  of total steps  6562  loss =  0.0003378220135346055\n",
      "epoch :  22  /  30  | TL :  0.000783028977041665  | VL :  0.0006669550784863532\n",
      "saving model\n",
      "epoch =  23  step =  0  of total steps  6562  loss =  0.0005401264643296599\n",
      "epoch =  23  step =  20  of total steps  6562  loss =  0.0005255425348877907\n",
      "epoch :  23  /  30  | TL :  0.0006120126698598531  | VL :  0.0008964926237240434\n",
      "epoch =  24  step =  0  of total steps  6562  loss =  0.001050537102855742\n",
      "epoch =  24  step =  20  of total steps  6562  loss =  0.00024333357578143477\n",
      "epoch :  24  /  30  | TL :  0.0006220780591580219  | VL :  0.0006129883113317192\n",
      "saving model\n",
      "epoch =  25  step =  0  of total steps  6562  loss =  0.00014987601025495678\n",
      "epoch =  25  step =  20  of total steps  6562  loss =  0.000988083891570568\n",
      "epoch :  25  /  30  | TL :  0.0005799531077389561  | VL :  0.000627553032245487\n",
      "epoch =  26  step =  0  of total steps  6562  loss =  0.0004930873401463032\n",
      "epoch =  26  step =  20  of total steps  6562  loss =  0.00031251832842826843\n",
      "epoch :  26  /  30  | TL :  0.0004987696645132798  | VL :  0.0005323425284586847\n",
      "saving model\n",
      "epoch =  27  step =  0  of total steps  6562  loss =  0.0019949893467128277\n",
      "epoch =  27  step =  20  of total steps  6562  loss =  0.00017517821106594056\n",
      "epoch :  27  /  30  | TL :  0.0005183820678558689  | VL :  0.0005127433687448502\n",
      "saving model\n",
      "epoch =  28  step =  0  of total steps  6562  loss =  0.00026294917915947735\n",
      "epoch =  28  step =  20  of total steps  6562  loss =  0.0015313175972551107\n",
      "epoch :  28  /  30  | TL :  0.0003918464620558855  | VL :  0.00038589115138165653\n",
      "saving model\n",
      "epoch =  29  step =  0  of total steps  6562  loss =  7.166895375121385e-05\n",
      "epoch =  29  step =  20  of total steps  6562  loss =  0.0011829413706436753\n",
      "epoch :  29  /  30  | TL :  0.0003527523353806741  | VL :  0.000354610790964216\n",
      "saving model\n"
     ]
    }
   ],
   "source": [
    "num_epochs = 30\n",
    "total_step = len(trainset) // train_batch_size\n",
    "train_loss_list = list()\n",
    "val_loss_list = list()\n",
    "min_val = 100\n",
    "for epoch in range(num_epochs):\n",
    "    trn = []\n",
    "    Net.train()\n",
    "    for i, (images, labels) in enumerate(trainloader) :\n",
    "        if torch.cuda.is_available():\n",
    "            images = Variable(images).cuda().float()\n",
    "            labels = Variable(labels).cuda()\n",
    "        else : \n",
    "            images = Variable(images).float()\n",
    "            labels = Variable(labels)\n",
    "        \n",
    "        _, target = torch.max(labels, 1)\n",
    "\n",
    "        y_pred = Net(images)\n",
    "        \n",
    "        loss = criterion(y_pred, target)\n",
    "        trn.append(loss.item())\n",
    "\n",
    "        optimizer.zero_grad()\n",
    "        loss.backward()\n",
    "        torch.nn.utils.clip_grad_value_(Net.parameters(), 10)\n",
    "        optimizer.step()\n",
    "\n",
    "        if i % 20 == 0 :\n",
    "            print('epoch = ', epoch, ' step = ', i, ' of total steps ', total_step, ' loss = ', loss.item())\n",
    "            \n",
    "    train_loss = (sum(trn) / len(trn))\n",
    "    train_loss_list.append(train_loss)\n",
    "    \n",
    "    Net.eval()\n",
    "    val = []\n",
    "    with torch.no_grad() :\n",
    "        for i, (images, labels) in enumerate(valloader) :\n",
    "            if torch.cuda.is_available():\n",
    "                images = Variable(images).cuda().float()\n",
    "                labels = Variable(labels).cuda()\n",
    "            else : \n",
    "                images = Variable(images).float()\n",
    "                labels = Variable(labels)\n",
    "                \n",
    "            _, target = torch.max(labels, 1)\n",
    "\n",
    "            # Forward pass\n",
    "            outputs = Net(images)\n",
    "            loss = criterion(outputs, target)\n",
    "            val.append(loss)\n",
    "\n",
    "    val_loss = (sum(val) / len(val)).item()\n",
    "    val_loss_list.append(val_loss)\n",
    "    print('epoch : ', epoch, ' / ', num_epochs, ' | TL : ', train_loss, ' | VL : ', val_loss)\n",
    "    \n",
    "    if val_loss < min_val :\n",
    "        print('saving model')\n",
    "        min_val = val_loss\n",
    "        torch.save(Net.state_dict(), '3conv2fc.pt')"
   ]
  },
  {
   "cell_type": "code",
   "execution_count": 62,
   "metadata": {},
   "outputs": [
    {
     "data": {
      "text/plain": [
       "[<matplotlib.lines.Line2D at 0x20b91b34400>,\n",
       " <matplotlib.lines.Line2D at 0x20b91b34630>]"
      ]
     },
     "execution_count": 62,
     "metadata": {},
     "output_type": "execute_result"
    },
    {
     "data": {
      "image/png": "[encoded data removed]",
      "text/plain": [
       "<Figure size 432x288 with 1 Axes>"
      ]
     },
     "metadata": {
      "needs_background": "light"
     },
     "output_type": "display_data"
    }
   ],
   "source": [
    "j = np.arange(30)\n",
    "plt.plot(j, train_loss_list, 'r', j, val_loss_list, 'g')"
   ]
  },
  {
   "cell_type": "code",
   "execution_count": null,
   "metadata": {},
   "outputs": [],
   "source": []
  }
 ],
 "metadata": {
  "kernelspec": {
   "display_name": "Python 3",
   "language": "python",
   "name": "python3"
  },
  "language_info": {
   "codemirror_mode": {
    "name": "ipython",
    "version": 3
   },
   "file_extension": ".py",
   "mimetype": "text/x-python",
   "name": "python",
   "nbconvert_exporter": "python",
   "pygments_lexer": "ipython3",
   "version": "3.7.1"
  }
 },
 "nbformat": 4,
 "nbformat_minor": 2
}
